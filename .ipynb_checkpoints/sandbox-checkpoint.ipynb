{
 "cells": [
  {
   "cell_type": "markdown",
   "id": "df65f3e2",
   "metadata": {},
   "source": [
    "# Typing since python 3.5"
   ]
  },
  {
   "cell_type": "markdown",
   "id": "6df6545f",
   "metadata": {},
   "source": [
    "<strong>mypy static checker</strong>\n",
    "<br>\n",
    "The python runtime does not enforce function and variable type annotations. <br>\n",
    "<strong>WE JUST USE THE TYPING FOR DOCUMENTATION PURSPOSE</strong> <br>\n",
    "<strong>IT DOESN'T CHANGE YOUR ACTUAL CODE</strong>"
   ]
  },
  {
   "cell_type": "code",
   "execution_count": 1,
   "id": "1325f546",
   "metadata": {},
   "outputs": [
    {
     "name": "stdout",
     "output_type": "stream",
     "text": [
      "Hello Ivan\n",
      "Hello 1\n"
     ]
    }
   ],
   "source": [
    "def greeting(name: str) -> str:\n",
    "    return f'Hello {name}'\n",
    "\n",
    "print(greeting(\"Ivan\"))\n",
    "print(greeting(1)) # it will not return an error even if we pass to the function an integer or other type of data"
   ]
  },
  {
   "cell_type": "code",
   "execution_count": 2,
   "id": "0d91e805",
   "metadata": {},
   "outputs": [
    {
     "data": {
      "text/plain": [
       "6"
      ]
     },
     "execution_count": 2,
     "metadata": {},
     "output_type": "execute_result"
    }
   ],
   "source": [
    "def add_numbers(a: int, b: int, c: int) -> int:\n",
    "    return a + b + c\n",
    "    \n",
    "add_numbers(1, 2, 3)"
   ]
  },
  {
   "cell_type": "markdown",
   "id": "7709a678",
   "metadata": {},
   "source": [
    "### Using the typing module"
   ]
  },
  {
   "cell_type": "code",
   "execution_count": 3,
   "id": "63ffa778",
   "metadata": {},
   "outputs": [
    {
     "name": "stdout",
     "output_type": "stream",
     "text": [
      "['Ivan', 'Jose']\n",
      "{'Jose', 'Ivan'}\n",
      "{'a': 'b'}\n"
     ]
    }
   ],
   "source": [
    "from typing import List, Dict, Set\n",
    "\n",
    "x: List[str] = [\"Ivan\", \"Jose\"]\n",
    "y: Set[str] = {\"Ivan\", \"Ivan\", \"Jose\"}\n",
    "z: Dict[str, str] = {\"a\": \"b\"}\n",
    "    \n",
    "print(x)\n",
    "print(y)\n",
    "print(z)"
   ]
  },
  {
   "cell_type": "markdown",
   "id": "58ce7dcc",
   "metadata": {},
   "source": [
    "### Custom Types"
   ]
  },
  {
   "cell_type": "code",
   "execution_count": 4,
   "id": "52a7c545",
   "metadata": {},
   "outputs": [
    {
     "name": "stdout",
     "output_type": "stream",
     "text": [
      "[[1.1, 1.2], [1.2, 1.4]]\n"
     ]
    }
   ],
   "source": [
    "Vector = List[float]\n",
    "Vectors = List[Vector]\n",
    "\n",
    "def foo(v: Vectors) -> Vectors:\n",
    "    print(v)\n",
    "    \n",
    "foo([[1.1, 1.2], [1.2, 1.4]])"
   ]
  },
  {
   "cell_type": "markdown",
   "id": "999338d5",
   "metadata": {},
   "source": [
    "### Sequences, Optional and Any"
   ]
  },
  {
   "cell_type": "code",
   "execution_count": 5,
   "id": "f6f31a10",
   "metadata": {},
   "outputs": [],
   "source": [
    "from typing import Optional, Any, Sequence\n",
    "\n",
    "def fooO(output: Optional[bool]=False):\n",
    "    pass\n",
    "\n",
    "def fooA(output: Any):\n",
    "    pass\n",
    "\n",
    "def fooS(output: Sequence[str]):\n",
    "    pass\n",
    "\n",
    "fooO()    # the argument is optional\n",
    "fooA(\"a\") # could be anything\n",
    "fooS(\"123\") # you should send a sequnece tuple, list, str, NOT DICT "
   ]
  },
  {
   "cell_type": "markdown",
   "id": "e292f28c",
   "metadata": {},
   "source": [
    "### Tuple"
   ]
  },
  {
   "cell_type": "code",
   "execution_count": 6,
   "id": "13736f3f",
   "metadata": {},
   "outputs": [
    {
     "data": {
      "text/plain": [
       "(1, 2, 3)"
      ]
     },
     "execution_count": 6,
     "metadata": {},
     "output_type": "execute_result"
    }
   ],
   "source": [
    "from typing import Tuple\n",
    "\n",
    "x: Tuple[int, int, int] = (1, 2, 3)\n",
    "    \n",
    "x"
   ]
  },
  {
   "cell_type": "markdown",
   "id": "c526e5a3",
   "metadata": {},
   "source": [
    "### Callable"
   ]
  },
  {
   "cell_type": "code",
   "execution_count": 7,
   "id": "bad6ac23",
   "metadata": {},
   "outputs": [
    {
     "name": "stdout",
     "output_type": "stream",
     "text": [
      "3\n"
     ]
    }
   ],
   "source": [
    "from typing import Callable\n",
    "\n",
    "def add(x: int, y: int) -> int:\n",
    "    return x + y\n",
    "\n",
    "def foo(func: Callable[[int, int, Optional[int]], int]) -> None:\n",
    "    return func(1, 2)\n",
    "        \n",
    "\n",
    "print(foo(add))"
   ]
  },
  {
   "cell_type": "markdown",
   "id": "cf50648b",
   "metadata": {},
   "source": [
    "# Python 3.11 news"
   ]
  },
  {
   "cell_type": "markdown",
   "id": "dac18f1d",
   "metadata": {},
   "source": [
    "## 1. Speed improvement"
   ]
  },
  {
   "cell_type": "markdown",
   "id": "a6e77640",
   "metadata": {},
   "source": [
    "The first significant change that will excite data scientists is speed improvement—the standard benchmark suite runs about 25% faster compared to 3.10. The Python docs claim 3.11 can be up to 60% faster in some instances. Here’s how to perform the benchmark test yourself in order to test speed improvements for yourself. \n",
    "\n",
    "To compare the speeds of Python 3.10 and 3.11, you will need a Docker installation. After making sure Docker desktop is running, run these two commands in the terminal, which will download two images for the two versions of Python."
   ]
  },
  {
   "cell_type": "markdown",
   "id": "0b2f07c8",
   "metadata": {},
   "source": [
    "pyperformance run -o py3_11.json <br>\n",
    "pyperformance run -o py3_9.json <br>\n",
    "pyperformance compare py3_9.json py3_11.json --csv comparison.csv"
   ]
  },
  {
   "cell_type": "markdown",
   "id": "b9aeebc1",
   "metadata": {},
   "source": [
    "## 2. Better Error Messages"
   ]
  },
  {
   "cell_type": "markdown",
   "id": "4ad7f114",
   "metadata": {},
   "source": [
    "## 3. Exception Notes "
   ]
  },
  {
   "cell_type": "code",
   "execution_count": 15,
   "id": "12ee0ff8",
   "metadata": {},
   "outputs": [
    {
     "ename": "ValueError",
     "evalue": "math domain error",
     "output_type": "error",
     "traceback": [
      "\u001b[1;31m---------------------------------------------------------------------------\u001b[0m",
      "\u001b[1;31mValueError\u001b[0m                                Traceback (most recent call last)",
      "Cell \u001b[1;32mIn[15], line 4\u001b[0m\n\u001b[0;32m      1\u001b[0m \u001b[38;5;28;01mimport\u001b[39;00m \u001b[38;5;21;01mmath\u001b[39;00m\n\u001b[0;32m      3\u001b[0m \u001b[38;5;28;01mtry\u001b[39;00m:\n\u001b[1;32m----> 4\u001b[0m     \u001b[43mmath\u001b[49m\u001b[38;5;241;43m.\u001b[39;49m\u001b[43msqrt\u001b[49m\u001b[43m(\u001b[49m\u001b[38;5;241;43m-\u001b[39;49m\u001b[38;5;241;43m1\u001b[39;49m\u001b[43m)\u001b[49m\n\u001b[0;32m      5\u001b[0m \u001b[38;5;28;01mexcept\u001b[39;00m \u001b[38;5;167;01mValueError\u001b[39;00m \u001b[38;5;28;01mas\u001b[39;00m e:\n\u001b[0;32m      6\u001b[0m     e\u001b[38;5;241m.\u001b[39madd_note(\u001b[38;5;124m\"\u001b[39m\u001b[38;5;124mNegative value passed! Please try again.\u001b[39m\u001b[38;5;124m\"\u001b[39m)\n",
      "\u001b[1;31mValueError\u001b[0m: math domain error"
     ]
    }
   ],
   "source": [
    "import math\n",
    "\n",
    "try:\n",
    "    math.sqrt(-1)\n",
    "except ValueError as e:\n",
    "    e.add_note(\"Negative value passed! Please try again.\")\n",
    "    raise"
   ]
  },
  {
   "cell_type": "markdown",
   "id": "f1574450",
   "metadata": {},
   "source": [
    "## 4. New Typing Feature: Self"
   ]
  },
  {
   "cell_type": "code",
   "execution_count": 16,
   "id": "3c1bdbe4",
   "metadata": {},
   "outputs": [],
   "source": [
    "from typing import Self\n",
    "class Language:\n",
    "    def __init__(self, name, version, release_date):\n",
    "        self.name = name\n",
    "        self.version = version\n",
    "        self.release_date = release_date\n",
    "\n",
    "    def change_version(self, version) -> Self:\n",
    "        self.version = version\n",
    "        return Language(self.name, self.version, self.release_date)"
   ]
  },
  {
   "cell_type": "markdown",
   "id": "fc70adee",
   "metadata": {},
   "source": [
    "## Summary\n",
    "\n",
    "### Better error messages with more informative tracebacks\n",
    "### Faster code execution due to considerable effort in the Faster CPython project\n",
    "### Task and exception groups that simplify working with asynchronous code\n",
    "### Sev eral new typing features that improve Python’s static typing support\n",
    "### Native TOML support for working with configuration files"
   ]
  },
  {
   "cell_type": "code",
   "execution_count": null,
   "id": "adc5ff9a",
   "metadata": {},
   "outputs": [],
   "source": []
  }
 ],
 "metadata": {
  "kernelspec": {
   "display_name": "Python 3 (ipykernel)",
   "language": "python",
   "name": "python3"
  },
  "language_info": {
   "codemirror_mode": {
    "name": "ipython",
    "version": 3
   },
   "file_extension": ".py",
   "mimetype": "text/x-python",
   "name": "python",
   "nbconvert_exporter": "python",
   "pygments_lexer": "ipython3",
   "version": "3.11.0"
  },
  "vscode": {
   "interpreter": {
    "hash": "1c467fc3f7c6dcce9d8893b4851a6a13c03baff7cd73bd92e8db37fb1c249e6a"
   }
  }
 },
 "nbformat": 4,
 "nbformat_minor": 5
}
