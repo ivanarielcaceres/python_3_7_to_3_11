{
 "cells": [
  {
   "cell_type": "markdown",
   "id": "0fa60994",
   "metadata": {},
   "source": [
    "# Typing since python 3.5"
   ]
  },
  {
   "cell_type": "markdown",
   "id": "cb365e51",
   "metadata": {},
   "source": [
    "<strong>mypy static checker</strong>\n",
    "<br>\n",
    "The python runtime does not enforce function and variable type annotations. <br>\n",
    "<strong>WE JUST USE THE TYPING FOR DOCUMENTATION PURSPOSE</strong> <br>\n",
    "<strong>IT DOESN'T CHANGE YOUR ACTUAL CODE</strong>"
   ]
  },
  {
   "cell_type": "code",
   "execution_count": 8,
   "id": "4f5fc889",
   "metadata": {},
   "outputs": [
    {
     "name": "stdout",
     "output_type": "stream",
     "text": [
      "Hello Ivan\n",
      "Hello 1\n"
     ]
    }
   ],
   "source": [
    "def greeting(name: str) -> str:\n",
    "    return f'Hello {name}'\n",
    "\n",
    "print(greeting(\"Ivan\"))\n",
    "print(greeting(1)) # it will not return an error even if we pass to the function an integer or other type of data"
   ]
  },
  {
   "cell_type": "code",
   "execution_count": 10,
   "id": "fba0cc66",
   "metadata": {},
   "outputs": [
    {
     "data": {
      "text/plain": [
       "6"
      ]
     },
     "execution_count": 10,
     "metadata": {},
     "output_type": "execute_result"
    }
   ],
   "source": [
    "def add_numbers(a: int, b: int, c: int) -> int:\n",
    "    return a + b + c\n",
    "    \n",
    "add_numbers(1, 2, 3)"
   ]
  },
  {
   "cell_type": "markdown",
   "id": "169338cd",
   "metadata": {},
   "source": [
    "### Using the typing module"
   ]
  },
  {
   "cell_type": "code",
   "execution_count": 15,
   "id": "8a7e1fb1",
   "metadata": {},
   "outputs": [
    {
     "name": "stdout",
     "output_type": "stream",
     "text": [
      "['Ivan', 'Jose']\n",
      "{'Jose', 'Ivan'}\n",
      "{'a': 'b'}\n"
     ]
    }
   ],
   "source": [
    "from typing import List, Dict, Set\n",
    "\n",
    "x: List[str] = [\"Ivan\", \"Jose\"]\n",
    "y: Set[str] = {\"Ivan\", \"Ivan\", \"Jose\"}\n",
    "z: Dict[str, str] = {\"a\": \"b\"}\n",
    "    \n",
    "print(x)\n",
    "print(y)\n",
    "print(z)"
   ]
  },
  {
   "cell_type": "markdown",
   "id": "86e15d09",
   "metadata": {},
   "source": [
    "### Custom Types"
   ]
  },
  {
   "cell_type": "code",
   "execution_count": 18,
   "id": "4b9d30f5",
   "metadata": {},
   "outputs": [
    {
     "name": "stdout",
     "output_type": "stream",
     "text": [
      "[[1.1, 1.2], [1.2, 1.4]]\n"
     ]
    }
   ],
   "source": [
    "Vector = List[float]\n",
    "Vectors = List[Vector]\n",
    "\n",
    "def foo(v: Vectors) -> Vectors:\n",
    "    print(v)\n",
    "    \n",
    "foo([[1.1, 1.2], [1.2, 1.4]])"
   ]
  },
  {
   "cell_type": "markdown",
   "id": "d3da44bc",
   "metadata": {},
   "source": [
    "### Sequences, Optional and Any"
   ]
  },
  {
   "cell_type": "code",
   "execution_count": 24,
   "id": "81155b7c",
   "metadata": {},
   "outputs": [],
   "source": [
    "from typing import Optional, Any, Sequence\n",
    "\n",
    "def fooO(output: Optional[bool]=False):\n",
    "    pass\n",
    "\n",
    "def fooA(output: Any):\n",
    "    pass\n",
    "\n",
    "def fooS(output: Sequence[str]):\n",
    "    pass\n",
    "\n",
    "fooO()    # the argument is optional\n",
    "fooA(\"a\") # could be anything\n",
    "fooS(\"123\") # you should send a sequnece tuple, list, str, NOT DICT "
   ]
  },
  {
   "cell_type": "markdown",
   "id": "cecec09c",
   "metadata": {},
   "source": [
    "### Tuple"
   ]
  },
  {
   "cell_type": "code",
   "execution_count": 27,
   "id": "6d1e1a4a",
   "metadata": {},
   "outputs": [
    {
     "data": {
      "text/plain": [
       "(1, 2, 3)"
      ]
     },
     "execution_count": 27,
     "metadata": {},
     "output_type": "execute_result"
    }
   ],
   "source": [
    "from typing import Tuple\n",
    "\n",
    "x: Tuple[int, int, int] = (1, 2, 3)\n",
    "    \n",
    "x"
   ]
  },
  {
   "cell_type": "markdown",
   "id": "74cfe7bc",
   "metadata": {},
   "source": [
    "### Callable"
   ]
  },
  {
   "cell_type": "code",
   "execution_count": 34,
   "id": "b775e73a",
   "metadata": {},
   "outputs": [
    {
     "name": "stdout",
     "output_type": "stream",
     "text": [
      "3\n"
     ]
    }
   ],
   "source": [
    "from typing import Callable\n",
    "\n",
    "def add(x: int, y: int) -> int:\n",
    "    return x + y\n",
    "\n",
    "def foo(func: Callable[[int, int, Optional[int]], int]) -> None:\n",
    "    return func(1, 2)\n",
    "        \n",
    "\n",
    "print(foo(add))"
   ]
  },
  {
   "cell_type": "code",
   "execution_count": null,
   "id": "86644635",
   "metadata": {},
   "outputs": [],
   "source": []
  }
 ],
 "metadata": {
  "kernelspec": {
   "display_name": "Python 3 (ipykernel)",
   "language": "python",
   "name": "python3"
  },
  "language_info": {
   "codemirror_mode": {
    "name": "ipython",
    "version": 3
   },
   "file_extension": ".py",
   "mimetype": "text/x-python",
   "name": "python",
   "nbconvert_exporter": "python",
   "pygments_lexer": "ipython3",
   "version": "3.11.0"
  }
 },
 "nbformat": 4,
 "nbformat_minor": 5
}
