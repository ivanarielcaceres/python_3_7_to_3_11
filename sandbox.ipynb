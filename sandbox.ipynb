{
 "cells": [
  {
   "cell_type": "markdown",
   "id": "df65f3e2",
   "metadata": {},
   "source": [
    "# Typing since python 3.5"
   ]
  },
  {
   "cell_type": "markdown",
   "id": "6df6545f",
   "metadata": {},
   "source": [
    "<strong>mypy static checker</strong>\n",
    "<br>\n",
    "The python runtime does not enforce function and variable type annotations. <br>\n",
    "<strong>WE JUST USE THE TYPING FOR DOCUMENTATION PURSPOSE</strong> <br>\n",
    "<strong>IT DOESN'T CHANGE YOUR ACTUAL CODE</strong>"
   ]
  },
  {
   "cell_type": "code",
   "execution_count": 37,
   "id": "1325f546",
   "metadata": {},
   "outputs": [
    {
     "name": "stdout",
     "output_type": "stream",
     "text": [
      "Hello Ivan\n",
      "Hello 1\n"
     ]
    }
   ],
   "source": [
    "def greeting(name: str) -> str:\n",
    "    return f'Hello {name}'\n",
    "\n",
    "print(greeting(\"Ivan\"))\n",
    "print(greeting(1)) # it will not return an error even if we pass to the function an integer or other type of data"
   ]
  },
  {
   "cell_type": "code",
   "execution_count": 38,
   "id": "0d91e805",
   "metadata": {},
   "outputs": [
    {
     "data": {
      "text/plain": [
       "6"
      ]
     },
     "execution_count": 38,
     "metadata": {},
     "output_type": "execute_result"
    }
   ],
   "source": [
    "def add_numbers(a: int, b: int, c: int) -> int:\n",
    "    return a + b + c\n",
    "    \n",
    "add_numbers(1, 2, 3)"
   ]
  },
  {
   "cell_type": "markdown",
   "id": "7709a678",
   "metadata": {},
   "source": [
    "### Using the typing module"
   ]
  },
  {
   "cell_type": "code",
   "execution_count": 15,
   "id": "63ffa778",
   "metadata": {},
   "outputs": [
    {
     "name": "stdout",
     "output_type": "stream",
     "text": [
      "['Ivan', 'Jose']\n",
      "{'Jose', 'Ivan'}\n",
      "{'a': 'b'}\n"
     ]
    }
   ],
   "source": [
    "from typing import List, Dict, Set\n",
    "\n",
    "x: List[str] = [\"Ivan\", \"Jose\"]\n",
    "y: Set[str] = {\"Ivan\", \"Ivan\", \"Jose\"}\n",
    "z: Dict[str, str] = {\"a\": \"b\"}\n",
    "    \n",
    "print(x)\n",
    "print(y)\n",
    "print(z)"
   ]
  },
  {
   "cell_type": "markdown",
   "id": "58ce7dcc",
   "metadata": {},
   "source": [
    "### Custom Types"
   ]
  },
  {
   "cell_type": "code",
   "execution_count": 18,
   "id": "52a7c545",
   "metadata": {},
   "outputs": [
    {
     "name": "stdout",
     "output_type": "stream",
     "text": [
      "[[1.1, 1.2], [1.2, 1.4]]\n"
     ]
    }
   ],
   "source": [
    "Vector = List[float]\n",
    "Vectors = List[Vector]\n",
    "\n",
    "def foo(v: Vectors) -> Vectors:\n",
    "    print(v)\n",
    "    \n",
    "foo([[1.1, 1.2], [1.2, 1.4]])"
   ]
  },
  {
   "cell_type": "markdown",
   "id": "999338d5",
   "metadata": {},
   "source": [
    "### Sequences, Optional and Any"
   ]
  },
  {
   "cell_type": "code",
   "execution_count": 24,
   "id": "f6f31a10",
   "metadata": {},
   "outputs": [],
   "source": [
    "from typing import Optional, Any, Sequence\n",
    "\n",
    "def fooO(output: Optional[bool]=False):\n",
    "    pass\n",
    "\n",
    "def fooA(output: Any):\n",
    "    pass\n",
    "\n",
    "def fooS(output: Sequence[str]):\n",
    "    pass\n",
    "\n",
    "fooO()    # the argument is optional\n",
    "fooA(\"a\") # could be anything\n",
    "fooS(\"123\") # you should send a sequnece tuple, list, str, NOT DICT "
   ]
  },
  {
   "cell_type": "markdown",
   "id": "e292f28c",
   "metadata": {},
   "source": [
    "### Tuple"
   ]
  },
  {
   "cell_type": "code",
   "execution_count": 27,
   "id": "13736f3f",
   "metadata": {},
   "outputs": [
    {
     "data": {
      "text/plain": [
       "(1, 2, 3)"
      ]
     },
     "execution_count": 27,
     "metadata": {},
     "output_type": "execute_result"
    }
   ],
   "source": [
    "from typing import Tuple\n",
    "\n",
    "x: Tuple[int, int, int] = (1, 2, 3)\n",
    "    \n",
    "x"
   ]
  },
  {
   "cell_type": "markdown",
   "id": "c526e5a3",
   "metadata": {},
   "source": [
    "### Callable"
   ]
  },
  {
   "cell_type": "code",
   "execution_count": 39,
   "id": "bad6ac23",
   "metadata": {},
   "outputs": [
    {
     "name": "stdout",
     "output_type": "stream",
     "text": [
      "3\n"
     ]
    }
   ],
   "source": [
    "from typing import Callable\n",
    "\n",
    "def add(x: int, y: int) -> int:\n",
    "    return x + y\n",
    "\n",
    "def foo(func: Callable[[int, int, Optional[int]], int]) -> None:\n",
    "    return func(1, 2)\n",
    "        \n",
    "\n",
    "print(foo(add))"
   ]
  },
  {
   "cell_type": "code",
   "execution_count": null,
   "id": "af2622c1",
   "metadata": {},
   "outputs": [],
   "source": []
  },
  {
   "cell_type": "code",
   "execution_count": null,
   "id": "f8926422",
   "metadata": {},
   "outputs": [],
   "source": []
  }
 ],
 "metadata": {
  "kernelspec": {
   "display_name": "Python 3.8.10 ('pythton-101')",
   "language": "python",
   "name": "python3"
  },
  "language_info": {
   "codemirror_mode": {
    "name": "ipython",
    "version": 3
   },
   "file_extension": ".py",
   "mimetype": "text/x-python",
   "name": "python",
   "nbconvert_exporter": "python",
   "pygments_lexer": "ipython3",
   "version": "3.8.10"
  },
  "vscode": {
   "interpreter": {
    "hash": "1c467fc3f7c6dcce9d8893b4851a6a13c03baff7cd73bd92e8db37fb1c249e6a"
   }
  }
 },
 "nbformat": 4,
 "nbformat_minor": 5
}
